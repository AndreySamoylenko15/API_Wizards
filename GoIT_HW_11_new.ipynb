{
  "cells": [
    {
      "cell_type": "markdown",
      "metadata": {
        "id": "view-in-github",
        "colab_type": "text"
      },
      "source": [
        "<a href=\"https://colab.research.google.com/github/AndreySamoylenko15/API_Wizards/blob/main/GoIT_HW_11_new.ipynb\" target=\"_parent\"><img src=\"https://colab.research.google.com/assets/colab-badge.svg\" alt=\"Open In Colab\"/></a>"
      ]
    },
    {
      "cell_type": "markdown",
      "metadata": {
        "id": "b0Yf4NBJUSNM"
      },
      "source": [
        "# Створення нейронної мережі\n",
        "\n",
        "У цьому завданні ми створимо повнозв'язну нейронну мережу, використовуючи при цьому низькорівневі механізми tensorflow.\n",
        "\n",
        "Архітектура нейромережі представлена на наступному малюнку. Як бачиш, у ній є один вхідний шар, два приховані, а також вихідний шар. В якості активаційної функції у прихованих шарах буде використовуватись сигмоїда. На вихідному шарі ми використовуємо softmax.\n",
        "\n",
        "Частина коду зі створення мережі вже написана, тобі потрібно заповнити пропуски у вказаних місцях."
      ]
    },
    {
      "cell_type": "markdown",
      "metadata": {
        "id": "01rZWUu0USNQ"
      },
      "source": [
        "## Архітектура нейронної мережі\n",
        "\n",
        "<img src=\"http://cs231n.github.io/assets/nn1/neural_net2.jpeg\" alt=\"nn\" style=\"width: 400px;\"/>\n"
      ]
    },
    {
      "cell_type": "markdown",
      "metadata": {
        "id": "LLvIZ705Qw_V"
      },
      "source": [
        "## Про датасет MNIST\n",
        "\n",
        "Дану нейромережу ми будемо вивчати на датасеті MNIST. Цей датасет являє собою велику кількість зображень рукописних цифр розміром $28 \\times 28$ пікселів. Кожен піксель приймає значення від 0 до 255.\n",
        "\n",
        "Як і раніше, датасет буде розділений на навчальну та тестову вибірки. При цьому ми виконаємо нормалізацію всіх зображень, щоб значення пікселів знаходилось у проміжку від 0 до 1, розділивши яскравість кожного пікселя на 255.\n",
        "\n",
        "Окрім того, архітектура нейронної мережі очікує на вхід вектор. У нашому ж випадку кожен об'єкт вибірки являє собою матрицю. Що ж робити? У цьому завданні ми \"розтягнемо\" матрицю $28 \\times 28$, отримавши при цьому вектор, що складається з 784 елементів.\n",
        "\n",
        "![MNIST Dataset](https://www.researchgate.net/profile/Steven-Young-5/publication/306056875/figure/fig1/AS:393921575309346@1470929630835/Example-images-from-the-MNIST-dataset.png)\n",
        "\n",
        "Більше інформації про датасет можна знайти [тут](http://yann.lecun.com/exdb/mnist/)."
      ]
    },
    {
      "cell_type": "code",
      "execution_count": 1,
      "metadata": {
        "id": "il_0_5OyUSNR"
      },
      "outputs": [],
      "source": [
        "import tensorflow as tf\n",
        "import numpy as np\n",
        "import pandas as pd\n",
        "import matplotlib.pyplot as plt\n",
        "import random\n",
        "import keras as K\n",
        "import seaborn as sns\n",
        "from sklearn.metrics import confusion_matrix"
      ]
    },
    {
      "cell_type": "code",
      "execution_count": 2,
      "metadata": {
        "id": "cd-1_abTUSNS"
      },
      "outputs": [],
      "source": [
        "num_classes = 10 # загальна кількість класів, у нашому випадку це цифри від 0 до 9\n",
        "num_features = 784 # кількість атрибутів вхідного вектора 28 * 28 = 784\n",
        "\n",
        "learning_rate = 0.001 # швидкість навчання нейронної мережі\n",
        "training_steps = 3000 # максимальне число епох\n",
        "batch_size = 256 # перераховувати ваги мережі ми будемо не на всій вибірці, а на її випадковій підмножині з batch_size елементів\n",
        "display_step = 100 # кожні 100 ітерацій ми будемо показувати поточне значення функції втрат і точності\n",
        "\n",
        "n_hidden_1 = 128 # кількість нейронів 1-го шару\n",
        "n_hidden_2 = 256 # кількість нейронів 2-го шару"
      ]
    },
    {
      "cell_type": "code",
      "execution_count": 3,
      "metadata": {
        "colab": {
          "base_uri": "https://localhost:8080/"
        },
        "id": "pGTXiRyTUSNT",
        "outputId": "2389b225-7234-4357-9128-99a0faed3aad"
      },
      "outputs": [
        {
          "output_type": "stream",
          "name": "stdout",
          "text": [
            "Downloading data from https://storage.googleapis.com/tensorflow/tf-keras-datasets/mnist.npz\n",
            "\u001b[1m11490434/11490434\u001b[0m \u001b[32m━━━━━━━━━━━━━━━━━━━━\u001b[0m\u001b[37m\u001b[0m \u001b[1m0s\u001b[0m 0us/step\n"
          ]
        }
      ],
      "source": [
        "# from tensorflow.keras.datasets import mnist\n",
        "from keras.datasets import mnist\n",
        "\n",
        "# Завантажуємо датасет\n",
        "(x_train, y_train), (x_test, y_test) = mnist.load_data()\n",
        "\n",
        "# Перетворюємо цілочисельні пікселі на тип float32\n",
        "x_train, x_test = np.array(x_train, np.float32), np.array(x_test, np.float32)\n",
        "\n",
        "# Перетворюємо матриці розміром 28x28 пікселів у вектор з 784 елементів\n",
        "x_train, x_test = x_train.reshape([-1, num_features]), x_test.reshape([-1, num_features])\n",
        "\n",
        "# Нормалізуємо значення пікселів\n",
        "x_train, x_test = x_train / 255., x_test / 255.\n",
        "\n",
        "# Перемішаємо тренувальні дані\n",
        "train_data = tf.data.Dataset.from_tensor_slices((x_train, y_train))\n",
        "train_data = train_data.repeat().shuffle(5000).batch(batch_size).prefetch(1)"
      ]
    },
    {
      "cell_type": "code",
      "execution_count": 4,
      "metadata": {
        "id": "FkRmCQjnUSNV"
      },
      "outputs": [],
      "source": [
        "# Створимо нейронну мережу\n",
        "\n",
        "class DenseLayer(tf.Module):\n",
        "    def __init__(self, in_features, out_features, name=None):\n",
        "        super().__init__(name=name)\n",
        "        self.w = tf.Variable(\n",
        "            tf.random.normal([in_features, out_features]), name=\"w\"\n",
        "        )\n",
        "        self.b = tf.Variable(tf.zeros([out_features]), name=\"b\")\n",
        "\n",
        "    def __call__(self, x, activation=0):\n",
        "        y = tf.matmul(x, self.w) + self.b\n",
        "        if activation != 0:\n",
        "            return tf.nn.softmax(y)\n",
        "        else:\n",
        "            return tf.nn.sigmoid(y)\n",
        "\n",
        "class NN(tf.Module):\n",
        "  def __init__(self, name=None):\n",
        "    super().__init__(name=name)\n",
        "    # Перший шар, який складається з 128 нейронів\n",
        "    self.layer1 = DenseLayer(num_features, n_hidden_1, name=\"layer1\")\n",
        "    # Другий шар, який складається з 256 нейронів\n",
        "    self.layer2 = DenseLayer(n_hidden_1, n_hidden_2, name=\"layer2\")\n",
        "    # Вихідний шар\n",
        "    self.output_layer = DenseLayer(n_hidden_2, num_classes, name=\"output_layer\")\n",
        "\n",
        "  def __call__(self, x):\n",
        "    # Передача даних через перші два шари та вихідний шар з функцією активації softmax\n",
        "    x1 = self.layer1(x, activation=0)  # сигмоїдна активація\n",
        "    x2 = self.layer2(x1, activation=0)  # сигмоїдна активація\n",
        "    x3 = self.output_layer(x2, activation=1)  # softmax активація\n",
        "\n",
        "    return x3"
      ]
    },
    {
      "cell_type": "code",
      "execution_count": 5,
      "metadata": {
        "id": "LIf3o7VAUSNV"
      },
      "outputs": [],
      "source": [
        "# В якості функції помилки в даному випадку зручно взяти крос-ентропію\n",
        "def cross_entropy(y_pred, y_true):\n",
        "    # Закодувати label в one hot vector\n",
        "    y_true = tf.one_hot(y_true, depth=num_classes)\n",
        "\n",
        "    # Значення передбачення, щоб уникнути помилки log(0).\n",
        "    y_pred = tf.clip_by_value(y_pred, 1e-9, 1.)\n",
        "\n",
        "    # Обчислення крос-ентропії\n",
        "    return tf.reduce_mean(-tf.reduce_sum(y_true * tf.math.log(y_pred)))\n",
        "\n",
        "# Як метрику якості використовуємо точність\n",
        "def accuracy(y_pred, y_true):\n",
        "    acc = tf.metrics.Accuracy()\n",
        "    acc.update_state(y_true, tf.argmax(y_pred, axis=1))\n",
        "    return acc.result()\n",
        "    # # Передбачені класи\n",
        "    # predicted_classes = tf.argmax(y_pred, axis=1)\n",
        "    # # Перевірка точності\n",
        "    # return tf.reduce_mean(tf.cast(tf.equal(predicted_classes, y_true), tf.float32))"
      ]
    },
    {
      "cell_type": "code",
      "execution_count": 6,
      "metadata": {
        "id": "MQeT1yatUSNW"
      },
      "outputs": [],
      "source": [
        "# Створимо екземпляр нейронної мережі\n",
        "neural_net = NN(name=\"mnist\")\n",
        "\n",
        "# Функція навчання нейромережі\n",
        "def train(neural_net, input_x, output_y):\n",
        "  # Для налаштування вагів мережі будемо використовувати стохастичний градієнтний спуск\n",
        "  optimizer = tf.optimizers.SGD(learning_rate)\n",
        "\n",
        "  # Активація автоматичного диференціювання\n",
        "  with tf.GradientTape() as g:\n",
        "    pred = neural_net(input_x)\n",
        "    loss = cross_entropy(pred, output_y)\n",
        "\n",
        "    # Отримаємо список оптимізованих параметрів\n",
        "    trainable_variables = neural_net.trainable_variables\n",
        "\n",
        "    # Обчислимо за ними значення градієнта\n",
        "    gradients = g.gradient(loss, trainable_variables)\n",
        "\n",
        "    # Модифікуємо параметри\n",
        "    optimizer.apply_gradients(zip(gradients, trainable_variables))\n",
        "    return loss"
      ]
    },
    {
      "cell_type": "code",
      "execution_count": 7,
      "metadata": {
        "id": "fnyns9lBfpQZ",
        "outputId": "34c10152-2898-48dd-ac19-56fb4442253e",
        "colab": {
          "base_uri": "https://localhost:8080/"
        }
      },
      "outputs": [
        {
          "output_type": "stream",
          "name": "stdout",
          "text": [
            "Step 100, Loss: 735.1376, Accuracy: 0.6758\n",
            "Step 200, Loss: 622.8285, Accuracy: 0.6875\n",
            "Step 300, Loss: 478.5024, Accuracy: 0.7070\n",
            "Step 400, Loss: 209.2397, Accuracy: 0.7656\n",
            "Step 500, Loss: 168.1965, Accuracy: 0.8320\n",
            "Step 600, Loss: 162.6230, Accuracy: 0.8516\n",
            "Step 700, Loss: 113.9036, Accuracy: 0.8828\n",
            "Step 800, Loss: 120.4924, Accuracy: 0.9023\n",
            "Step 900, Loss: 107.2021, Accuracy: 0.8711\n",
            "Step 1000, Loss: 79.8920, Accuracy: 0.9180\n",
            "Step 1100, Loss: 137.4247, Accuracy: 0.8789\n",
            "Step 1200, Loss: 129.8818, Accuracy: 0.8711\n",
            "Step 1300, Loss: 88.0599, Accuracy: 0.9023\n",
            "Step 1400, Loss: 85.6396, Accuracy: 0.9141\n",
            "Step 1500, Loss: 107.8529, Accuracy: 0.8789\n",
            "Step 1600, Loss: 131.2872, Accuracy: 0.8828\n",
            "Step 1700, Loss: 90.8607, Accuracy: 0.8984\n",
            "Step 1800, Loss: 94.9217, Accuracy: 0.9102\n",
            "Step 1900, Loss: 76.2055, Accuracy: 0.9180\n",
            "Step 2000, Loss: 76.3201, Accuracy: 0.9062\n",
            "Step 2100, Loss: 61.7457, Accuracy: 0.9375\n",
            "Step 2200, Loss: 58.7216, Accuracy: 0.9375\n",
            "Step 2300, Loss: 77.9427, Accuracy: 0.9102\n",
            "Step 2400, Loss: 77.0914, Accuracy: 0.9023\n",
            "Step 2500, Loss: 84.2220, Accuracy: 0.9102\n",
            "Step 2600, Loss: 84.2537, Accuracy: 0.9102\n",
            "Step 2700, Loss: 59.9759, Accuracy: 0.9414\n",
            "Step 2800, Loss: 81.2788, Accuracy: 0.9141\n",
            "Step 2900, Loss: 70.4609, Accuracy: 0.9258\n",
            "Step 3000, Loss: 63.3890, Accuracy: 0.9297\n",
            "Optimization Finished!\n",
            "Test Accuracy: 0.9044\n"
          ]
        }
      ],
      "source": [
        "# Тренування мережі\n",
        "loss_history = []  # кожні display_step кроків зберігай в цьому списку поточну помилку нейромережі\n",
        "accuracy_history = [] # кожні display_step кроків зберігай в цьому списку поточну точність нейромережі\n",
        "\n",
        "# У цьому циклі ми будемо проводити навчання нейронної мережі\n",
        "# із тренувального датасета train_data вилучи випадкову підмножину, на якій\n",
        "# відбудеться тренування. Використовуй метод take, доступний для тренувального датасета.\n",
        "for step, (batch_x, batch_y) in enumerate(train_data.take(training_steps), 1):\n",
        "    # Оновлюємо ваги нейронної мережі\n",
        "    loss = train(neural_net, batch_x, batch_y)\n",
        "\n",
        "    if step % display_step == 0:\n",
        "        pred = neural_net(batch_x)\n",
        "        current_accuracy = accuracy(pred, batch_y).numpy()\n",
        "        current_loss = loss.numpy()\n",
        "        loss_history.append(current_loss)\n",
        "        accuracy_history.append(current_accuracy)\n",
        "        print(f\"Step {step}, Loss: {current_loss:.4f}, Accuracy: {current_accuracy:.4f}\")\n",
        "print(\"Optimization Finished!\")\n",
        "test_pred = neural_net(x_test)\n",
        "test_accuracy = accuracy(test_pred, y_test)\n",
        "print(f\"Test Accuracy: {test_accuracy.numpy():.4f}\")"
      ]
    },
    {
      "cell_type": "code",
      "execution_count": 8,
      "metadata": {
        "id": "_yCBfG6MbQB2",
        "outputId": "d2da53e3-c13a-4877-ff59-fd3c6f3060dd",
        "colab": {
          "base_uri": "https://localhost:8080/",
          "height": 487
        }
      },
      "outputs": [
        {
          "output_type": "display_data",
          "data": {
            "text/plain": [
              "<Figure size 1200x500 with 2 Axes>"
            ],
            "image/png": "[encoded data removed]"
          },
          "metadata": {}
        }
      ],
      "source": [
        "# Виведіть графіки залежності зміни точності і втрат від кроку\n",
        "# Якщо все зроблено правильно, то точність повинна зростати, а втрати зменшуватись\n",
        "\n",
        "import matplotlib.pyplot as plt\n",
        "\n",
        "# Виведіть графік функції втрат\n",
        "plt.figure(figsize=(12, 5))\n",
        "plt.subplot(1, 2, 1)\n",
        "plt.plot(range(1, training_steps + 1, display_step), loss_history, label='Loss')\n",
        "plt.xlabel('Step')\n",
        "plt.ylabel('Loss')\n",
        "plt.title('Loss over Training Steps')\n",
        "plt.legend()\n",
        "\n",
        "# Виведіть графік точності\n",
        "plt.subplot(1, 2, 2)\n",
        "plt.plot(range(1, training_steps + 1, display_step), accuracy_history, label='Accuracy')\n",
        "plt.xlabel('Step')\n",
        "plt.ylabel('Accuracy')\n",
        "plt.title('Accuracy over Training Steps')\n",
        "plt.legend()\n",
        "\n",
        "plt.show()\n",
        "\n"
      ]
    },
    {
      "cell_type": "code",
      "execution_count": 9,
      "metadata": {
        "id": "LE3g4gDyUSNY",
        "outputId": "a5170640-bbc6-4fcc-8d24-1d5cc3bec138",
        "colab": {
          "base_uri": "https://localhost:8080/"
        }
      },
      "outputs": [
        {
          "output_type": "stream",
          "name": "stdout",
          "text": [
            "Train Accuracy: 0.9219\n",
            "Test Accuracy: 0.9044\n"
          ]
        }
      ],
      "source": [
        "# Обчисліть точність навченої нейромережі\n",
        "\n",
        "train_pred = neural_net(x_train)\n",
        "train_accuracy = accuracy(train_pred, y_train)\n",
        "print(f\"Train Accuracy: {train_accuracy.numpy():.4f}\")\n",
        "\n",
        "# Тестування моделі на тестових даних\n",
        "\n",
        "test_pred = neural_net(x_test)\n",
        "test_accuracy = accuracy(test_pred, y_test)\n",
        "print(f\"Test Accuracy: {test_accuracy.numpy():.4f}\")"
      ]
    },
    {
      "cell_type": "code",
      "execution_count": 10,
      "metadata": {
        "id": "_EEHAubOUSNY",
        "outputId": "d72afa87-2fa0-46e2-8993-7443df1a9d52",
        "colab": {
          "base_uri": "https://localhost:8080/",
          "height": 259
        }
      },
      "outputs": [
        {
          "output_type": "display_data",
          "data": {
            "text/plain": [
              "<Figure size 1500x300 with 5 Axes>"
            ],
            "image/png": "[encoded data removed]"
          },
          "metadata": {}
        }
      ],
      "source": [
        "# Протестуйте навчену нейромережу на 10 зображеннях. З тестової вибірки візьміть 5\n",
        "# випадкових зображень і передайте їх у нейронну мережу.\n",
        "# Виведіть зображення та випишіть  поруч відповідь нейромережі.\n",
        "# Зробіть висновок про те, чи помиляється твоя нейронна мережа, і якщо так, то як часто?\n",
        "\n",
        "# Протестуйте навчену нейромережу на 10 зображеннях\n",
        "def test_random_images():\n",
        "    fig, axes = plt.subplots(1, 5, figsize=(15, 3))\n",
        "    random_idx = random.sample(range(x_test.shape[0]), 5)\n",
        "    for i, ax in enumerate(axes):\n",
        "        idx = random_idx[i]\n",
        "        img = x_test[idx].reshape(28, 28)\n",
        "        true_label = y_test[idx]\n",
        "        prediction = neural_net(np.expand_dims(x_test[idx], axis=0))\n",
        "        predicted_label = np.argmax(prediction)\n",
        "\n",
        "        ax.imshow(img, cmap='gray')\n",
        "        ax.set_title(f\"True: {true_label}, Pred: {predicted_label}\")\n",
        "        ax.axis('off')\n",
        "    plt.show()\n",
        "\n",
        "# Виклик функції для тестування на випадкових зображеннях\n",
        "test_random_images()\n",
        "\n"
      ]
    },
    {
      "cell_type": "code",
      "source": [
        "# Обчислення втрат на тестових даних\n",
        "def calculate_test_loss(neural_net, x_test, y_test):\n",
        "    test_pred = neural_net(x_test)\n",
        "    test_loss = cross_entropy(test_pred, y_test)\n",
        "    return test_loss\n",
        "\n",
        "# Обчислення та виведення втрат на тестових даних\n",
        "test_loss = calculate_test_loss(neural_net, x_test, y_test)\n",
        "print(f\"Test Loss: {test_loss.numpy():.4f}\")"
      ],
      "metadata": {
        "id": "zmlCD3aAQJCQ",
        "outputId": "754d9d2f-6ac7-462c-9119-c5029322431a",
        "colab": {
          "base_uri": "https://localhost:8080/"
        }
      },
      "execution_count": 11,
      "outputs": [
        {
          "output_type": "stream",
          "name": "stdout",
          "text": [
            "Test Loss: 3256.3372\n"
          ]
        }
      ]
    },
    {
      "cell_type": "code",
      "source": [
        "from sklearn.metrics import classification_report\n",
        "\n",
        "# Виконання передбачень для тестової вибірки\n",
        "test_pred = neural_net(x_test)\n",
        "predicted_classes = tf.argmax(test_pred, axis=1).numpy()\n",
        "\n",
        "# Виведення метрик якості для кожного класу\n",
        "report = classification_report(y_test, predicted_classes, target_names=[str(i) for i in range(num_classes)])\n",
        "print(report)"
      ],
      "metadata": {
        "id": "LqhqRlAlQKYy",
        "outputId": "08248bf8-e0a7-4fb7-8d4b-bce040ece6cf",
        "colab": {
          "base_uri": "https://localhost:8080/"
        }
      },
      "execution_count": 12,
      "outputs": [
        {
          "output_type": "stream",
          "name": "stdout",
          "text": [
            "              precision    recall  f1-score   support\n",
            "\n",
            "           0       0.94      0.96      0.95       980\n",
            "           1       0.97      0.97      0.97      1135\n",
            "           2       0.91      0.88      0.89      1032\n",
            "           3       0.86      0.89      0.87      1010\n",
            "           4       0.89      0.92      0.91       982\n",
            "           5       0.88      0.84      0.86       892\n",
            "           6       0.94      0.92      0.93       958\n",
            "           7       0.91      0.91      0.91      1028\n",
            "           8       0.86      0.87      0.86       974\n",
            "           9       0.88      0.87      0.88      1009\n",
            "\n",
            "    accuracy                           0.90     10000\n",
            "   macro avg       0.90      0.90      0.90     10000\n",
            "weighted avg       0.90      0.90      0.90     10000\n",
            "\n"
          ]
        }
      ]
    },
    {
      "cell_type": "markdown",
      "source": [
        "Загальні висновки:\n",
        "Модель досягла високої загальної точності 90% на тестовому наборі даних. Це свідчить про те, що модель добре вміє класифікувати зображення цифр із набору даних MNIST\n",
        "Зміни в архітектурі моделі, зокрема використання функцій активації ReLU для прихованих шарів і softmax для вихідного шару, значно покращили результати.\n",
        "Загальна точність та інші метрики якості демонструють, що модель успішно навчається та ефективно класифікує зображення з набору даних MNIST. Ці результати показують, що модель добре справляється із завданням, але є ще можливості для подальшого вдосконалення та оптимізації."
      ],
      "metadata": {
        "id": "oFmI7b-lQSCv"
      }
    }
  ],
  "metadata": {
    "colab": {
      "provenance": [],
      "include_colab_link": true
    },
    "kernelspec": {
      "display_name": "Python 3 (ipykernel)",
      "language": "python",
      "name": "python3"
    },
    "language_info": {
      "codemirror_mode": {
        "name": "ipython",
        "version": 3
      },
      "file_extension": ".py",
      "mimetype": "text/x-python",
      "name": "python",
      "nbconvert_exporter": "python",
      "pygments_lexer": "ipython3",
      "version": "3.9.2"
    }
  },
  "nbformat": 4,
  "nbformat_minor": 0
}